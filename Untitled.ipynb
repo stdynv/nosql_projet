{
 "cells": [
  {
   "cell_type": "code",
   "execution_count": 3,
   "id": "ac267049",
   "metadata": {
    "pycharm": {
     "name": "#%%\n"
    }
   },
   "outputs": [],
   "source": [
    "import json\n",
    "import pprint\n",
    "\n",
    "import pymongo\n",
    "from pymongo import MongoClient"
   ]
  },
  {
   "cell_type": "markdown",
   "source": [
    "# Connect To MongoDB"
   ],
   "metadata": {
    "collapsed": false
   }
  },
  {
   "cell_type": "code",
   "execution_count": 4,
   "outputs": [],
   "source": [
    "client = MongoClient('localhost',27017)\n",
    "# getting database movies\n",
    "db = client.movies\n",
    "# getting our collection movies_details\n",
    "movies_details = db.movies_details"
   ],
   "metadata": {
    "collapsed": false,
    "pycharm": {
     "name": "#%%\n"
    }
   }
  },
  {
   "cell_type": "markdown",
   "source": [
    "# Top 10 Movies in 2016"
   ],
   "metadata": {
    "collapsed": false
   }
  },
  {
   "cell_type": "code",
   "execution_count": 222,
   "outputs": [
    {
     "name": "stdout",
     "output_type": "stream",
     "text": [
      " Title                  |      Rating   |       Actors  \n",
      "------------------------------------------------------------------\n",
      " 1 |         Dangal      |           8.8 |  Aamir Khan, Sakshi Tanwar, Fatima Sana Shaikh,Sanya Malhotra\n",
      " 2 |  Kimi no na wa      |           8.6 |  Ryûnosuke Kamiki, Mone Kamishiraishi, Ryô Narita, Aoi Yuki\n",
      " 3 | Koe no katachi      |           8.4 |  Miyu Irino, Saori Hayami, Aoi Yuki, Kenshô Ono\n",
      " 4 |     La La Land      |           8.3 |  Ryan Gosling, Emma Stone, Rosemarie DeWitt, J.K. Simmons\n",
      " 5 | Paint It Black      |           8.3 |  Alia Shawkat, Nancy Kwan, Annabelle Attanasio,Alfred Molina\n",
      " 6 |  Hacksaw Ridge      |           8.2 |  Andrew Garfield, Sam Worthington, Luke Bracey,Teresa Palmer\n",
      " 7 |      Ah-ga-ssi      |           8.1 |  Min-hee Kim, Jung-woo Ha, Jin-woong Jo, So-ri Moon\n",
      " 8 |           Lion      |           8.1 |  Dev Patel, Nicole Kidman, Rooney Mara, Sunny Pawar\n",
      " 9 |       Zootopia      |           8.1 |  Ginnifer Goodwin, Jason Bateman, Idris Elba, Jenny Slate\n",
      "10 |        Arrival      |           8.0 |  Amy Adams, Jeremy Renner, Forest Whitaker,Michael Stuhlbarg\n"
     ]
    }
   ],
   "source": [
    "top_10_2016 = list(db.movies_details.find({'$and' : [{'Rating' : {'$gte' : '8'},'Year' : '2016'}]},{'Title' :1,'Rating' : 1,'Actors' : 1}).sort([(\"Rating\", pymongo.DESCENDING)]).limit(10))\n",
    "row = 0\n",
    "print (\" Title                  |      Rating   |       Actors  \".center(50))\n",
    "print (\"------------------------------------------------------------------\")\n",
    "for i in top_10_2016:\n",
    "    row +=1\n",
    "    print(\"%2i | %14s      |           %.1f |  %10s\" % (row,i['Title'],float(i[\"Rating\"]),i['Actors']))"
   ],
   "metadata": {
    "collapsed": false,
    "pycharm": {
     "name": "#%%\n"
    }
   }
  },
  {
   "cell_type": "markdown",
   "source": [
    "## quels sont les films dont lesquels joue Vin Diesel avant 2016"
   ],
   "metadata": {
    "collapsed": false
   }
  },
  {
   "cell_type": "code",
   "execution_count": 221,
   "outputs": [
    {
     "name": "stdout",
     "output_type": "stream",
     "text": [
      "  |        Year    |                               Actors\n",
      "------------------------------------------------------------------\n",
      " 1 |           2015 | Vin Diesel, Paul Walker, Dwayne Johnson, Jason Statham\n",
      " 2 |           2015 | Vin Diesel, Rose Leslie, Elijah Wood, Ólafur Darri Ólafsson\n",
      " 3 |           2014 | Chris Pratt, Vin Diesel, Bradley Cooper, Zoe Saldana\n",
      " 4 |           2013 | Vin Diesel, Paul Walker, Dwayne Johnson, Michelle Rodriguez\n",
      " 5 |           2013 | Vin Diesel, Karl Urban, Katee Sackhoff, Jordi Mollà\n",
      " 6 |           2011 | Vin Diesel, Paul Walker, Dwayne Johnson, Jordana Brewster\n",
      " 7 |           2009 | Vin Diesel, Paul Walker, Michelle Rodriguez, Jordana Brewster\n"
     ]
    }
   ],
   "source": [
    "actors_2016 = list(db.movies_details.find({'Actors' : {'$regex' : 'Vin Diesel'},'Year' : {'$lt' :'2016'}},{'Actors' :1,'Year':1}).sort([(\"Year\", pymongo.DESCENDING)]))\n",
    "row =0\n",
    "print (\"  |        Year    |                               Actors\")\n",
    "print (\"------------------------------------------------------------------\")\n",
    "for i in actors_2016:\n",
    "    row +=1\n",
    "    print(\"%2i | %14s | %10s\" % (row,i['Year'],i['Actors']))"
   ],
   "metadata": {
    "collapsed": false,
    "pycharm": {
     "name": "#%%\n"
    }
   }
  },
  {
   "cell_type": "markdown",
   "source": [
    "### Les Pires Films"
   ],
   "metadata": {
    "collapsed": false
   }
  },
  {
   "cell_type": "code",
   "execution_count": 223,
   "outputs": [
    {
     "name": "stdout",
     "output_type": "stream",
     "text": [
      "  |             Title               |   Actors\n",
      "------------------------------------------------------------------\n",
      " 1 |                 Disaster Movie |      1.9\n",
      " 2 |        Don't Fuck in the Woods |      2.7\n",
      " 3 |           Dragonball Evolution |      2.7\n",
      " 4 |                       Tall Men |      3.2\n",
      " 5 |                        Wrecker |      3.5\n",
      " 6 |                     The Intent |      3.5\n",
      " 7 |                        Satanic |      3.7\n",
      " 8 |                  The Last Face |      3.7\n",
      " 9 |       The Disappointments Room |      3.9\n",
      "10 |            Birth of the Dragon |      3.9\n"
     ]
    }
   ],
   "source": [
    "pires_films = list(db.movies_details.find(\n",
    "    {\n",
    "    },\n",
    "    {\n",
    "        \"Title\" : 1,\n",
    "        \"Actors\" : 1,\n",
    "        \"Director\" : 1,\n",
    "        \"Rating\" : 1\n",
    "\n",
    "    }).sort([(\"Rating\", pymongo.ASCENDING)]).limit(10))\n",
    "row = 0\n",
    "print (\"  |             Title               |   Actors\")\n",
    "print (\"------------------------------------------------------------------\")\n",
    "for i in pires_films:\n",
    "    row +=1\n",
    "    print(\"%2i | %30s | %8s\" % (row,i['Title'],i['Rating']))"
   ],
   "metadata": {
    "collapsed": false,
    "pycharm": {
     "name": "#%%\n"
    }
   }
  },
  {
   "cell_type": "markdown",
   "source": [
    "### liste des films pour le directeur Paul Greengrass"
   ],
   "metadata": {
    "collapsed": false
   }
  },
  {
   "cell_type": "code",
   "execution_count": 271,
   "outputs": [
    {
     "name": "stdout",
     "output_type": "stream",
     "text": [
      "  |             Title               |        Genre              |    Year \n",
      "----------------------------------------------------------------------------\n",
      " 1 |                   Jason Bourne |           Action,Thriller |    2016\n",
      " 2 |           The Bourne Ultimatum |   Action,Mystery,Thriller |    2007\n",
      " 3 |               Captain Phillips |  Biography,Drama,Thriller |    2013\n"
     ]
    }
   ],
   "source": [
    "movies_workedOn = list(db.movies_details.find({'Director' : {'$regex' :'Paul Greengrass'}},{'Title':1,'Genre':1,'Year':1}))\n",
    "row = 0\n",
    "print (\"  |             Title               |        Genre              |    Year \")\n",
    "print (\"----------------------------------------------------------------------------\")\n",
    "for x in movies_workedOn :\n",
    "    row+=1\n",
    "    print(\"%2i | %30s | %25s |%8s\" % (row,x['Title'],x['Genre'],x['Year']))"
   ],
   "metadata": {
    "collapsed": false,
    "pycharm": {
     "name": "#%%\n"
    }
   }
  },
  {
   "cell_type": "markdown",
   "source": [
    "### Liste des films par Genre"
   ],
   "metadata": {
    "collapsed": false
   }
  },
  {
   "cell_type": "markdown",
   "source": [],
   "metadata": {
    "collapsed": false,
    "pycharm": {
     "name": "#%% md\n"
    }
   }
  },
  {
   "cell_type": "code",
   "execution_count": 14,
   "outputs": [
    {
     "name": "stdout",
     "output_type": "stream",
     "text": [
      "   |             Title              |             Genre              \n",
      "--------------------------------------------------------------------\n",
      " 1 |                           Sing |   Animation,Comedy,Family\n",
      " 2 |                     La La Land |        Comedy,Drama,Music\n",
      " 3 |                       Mindhorn |                    Comedy\n",
      " 4 |                          Moana | Animation,Adventure,Comedy\n",
      " 5 |                       Colossal |       Action,Comedy,Drama\n",
      " 6 |        The Secret Life of Pets | Animation,Adventure,Comedy\n",
      " 7 |                         Trolls | Animation,Adventure,Comedy\n",
      " 8 |                Paris pieds nus |                    Comedy\n",
      " 9 |                       Bad Moms |                    Comedy\n",
      "10 |                       Why Him? |                    Comedy\n",
      "11 |                       Deadpool |   Action,Adventure,Comedy\n",
      "12 |                      5- 25- 77 |              Comedy,Drama\n",
      "13 |                  Sausage Party | Animation,Adventure,Comedy\n",
      "14 |                   Mother's Day |              Comedy,Drama\n",
      "15 |                   Their Finest |      Comedy,Drama,Romance\n",
      "16 |   Kingsman: The Secret Service |   Action,Adventure,Comedy\n",
      "17 |                       Zootopia | Animation,Adventure,Comedy\n",
      "18 |                   Ghostbusters |     Action,Comedy,Fantasy\n",
      "19 |              Captain Fantastic |              Comedy,Drama\n",
      "20 |        The Wolf of Wall Street |    Biography,Comedy,Crime\n",
      "21 |                       War Dogs |        Comedy,Crime,Drama\n",
      "22 |                  The Nice Guys |       Action,Comedy,Crime\n",
      "23 |        The Man from U.N.C.L.E. |   Action,Adventure,Comedy\n",
      "24 |                   The Comedian |                    Comedy\n",
      "25 |         Office Christmas Party |                    Comedy\n",
      "26 |                   Finding Dory | Animation,Adventure,Comedy\n",
      "27 | Mike and Dave Need Wedding Dates |  Adventure,Comedy,Romance\n",
      "28 |                     Mamma Mia! |     Comedy,Family,Musical\n",
      "29 |                 Into the Woods |    Adventure,Comedy,Drama\n",
      "30 |           Diary of a Wimpy Kid |             Comedy,Family\n",
      "31 |                  The Big Short |    Biography,Comedy,Drama\n",
      "32 |          The Edge of Seventeen |              Comedy,Drama\n",
      "33 |                       Superbad |                    Comedy\n",
      "34 |           Crazy, Stupid, Love. |      Comedy,Drama,Romance\n",
      "35 |    Scott Pilgrim vs. the World |     Action,Comedy,Fantasy\n",
      "36 |                       Hot Fuzz |     Action,Comedy,Mystery\n",
      "37 |                      Free Fire |       Action,Comedy,Crime\n",
      "38 |               Now You See Me 2 |   Action,Adventure,Comedy\n",
      "39 |                         Frozen | Animation,Adventure,Comedy\n",
      "40 |                 Tropic Thunder |             Action,Comedy\n",
      "41 |                        Ant-Man |   Action,Adventure,Comedy\n",
      "42 |           Bridget Jones's Baby |            Comedy,Romance\n",
      "43 |                     Trainwreck |      Comedy,Drama,Romance\n",
      "44 |           Central Intelligence |       Action,Comedy,Crime\n",
      "45 |                       Paterson |      Comedy,Drama,Romance\n",
      "46 |                    Bridesmaids |            Comedy,Romance\n",
      "47 |                 Monster Trucks |   Action,Adventure,Comedy\n",
      "48 |                       Kick-Ass |             Action,Comedy\n",
      "49 |                           Cars | Animation,Adventure,Comedy\n",
      "50 |              We're the Millers |              Comedy,Crime\n",
      "51 |                    The Lobster |      Comedy,Drama,Romance\n",
      "52 |       The Grand Budapest Hotel |    Adventure,Comedy,Drama\n",
      "53 |                     Inside Out | Animation,Adventure,Comedy\n",
      "54 |                       Rock Dog | Animation,Adventure,Comedy\n",
      "55 |             20th Century Women |              Comedy,Drama\n",
      "56 |                            Spy |       Action,Comedy,Crime\n",
      "57 |               The Intouchables |    Biography,Comedy,Drama\n",
      "58 |                   Bonjour Anne |      Comedy,Drama,Romance\n",
      "59 |                   The Hangover |                    Comedy\n",
      "60 | Birdman or (The Unexpected Virtue of Ignorance) |      Comedy,Drama,Romance\n",
      "61 |              Dear White People |              Comedy,Drama\n",
      "62 | Teenage Mutant Ninja Turtles: Out of the Shadows |   Action,Adventure,Comedy\n",
      "63 |                  Dirty Grandpa |                    Comedy\n",
      "64 |                 21 Jump Street |       Action,Comedy,Crime\n",
      "65 |                    Sing Street |        Comedy,Drama,Music\n",
      "66 |                      Ballerina | Animation,Adventure,Comedy\n",
      "67 |                 22 Jump Street |       Action,Comedy,Crime\n",
      "68 |         Everybody Wants Some!! |                    Comedy\n",
      "69 |    Keeping Up with the Joneses |             Action,Comedy\n",
      "70 |                    Masterminds |       Action,Comedy,Crime\n",
      "71 |                  Pitch Perfect |      Comedy,Music,Romance\n",
      "72 |   Neighbors 2: Sorority Rising |                    Comedy\n",
      "73 |      Ice Age: Collision Course | Animation,Adventure,Comedy\n",
      "74 |          The Devil Wears Prada |              Comedy,Drama\n",
      "75 |                The House Bunny |            Comedy,Romance\n",
      "76 |         She's Out of My League |            Comedy,Romance\n",
      "77 |                  Inherent Vice |        Comedy,Crime,Drama\n",
      "78 |               How to Be Single |            Comedy,Romance\n",
      "79 |                      The Visit |    Comedy,Horror,Thriller\n",
      "80 |         A Street Cat Named Bob |    Biography,Comedy,Drama\n",
      "81 |                         Storks | Animation,Adventure,Comedy\n",
      "82 |        Silver Linings Playbook |      Comedy,Drama,Romance\n",
      "83 |                        Blended |            Comedy,Romance\n",
      "84 |                Jennifer's Body |             Comedy,Horror\n",
      "85 |              Midnight in Paris |    Comedy,Fantasy,Romance\n",
      "86 |                 The Dressmaker |              Comedy,Drama\n",
      "87 |                   Café Society |      Comedy,Drama,Romance\n",
      "88 |           Demain tout commence |              Comedy,Drama\n",
      "89 |                This Is the End |            Comedy,Fantasy\n",
      "90 |                     About Time |      Comedy,Drama,Fantasy\n",
      "91 |                  Step Brothers |                    Comedy\n",
      "92 |                     Zombieland |   Adventure,Comedy,Horror\n",
      "93 |                  Hail, Caesar! |            Comedy,Mystery\n",
      "94 |        Florence Foster Jenkins |    Biography,Comedy,Drama\n",
      "95 |                 Swiss Army Man |    Adventure,Comedy,Drama\n",
      "96 |      What We Do in the Shadows |     Comedy,Fantasy,Horror\n",
      "97 |                         Pixels |      Action,Comedy,Family\n",
      "98 |                          Keanu |             Action,Comedy\n",
      "99 |                  Whisky Galore |            Comedy,Romance\n",
      "100 |                    Grown Ups 2 |                    Comedy\n",
      "101 |                Couples Retreat |                    Comedy\n",
      "102 |            Absolutely Anything |             Comedy,Sci-Fi\n",
      "103 |                     Magic Mike |              Comedy,Drama\n",
      "104 |                  Despicable Me | Animation,Adventure,Comedy\n",
      "105 |                        Tangled | Animation,Adventure,Comedy\n",
      "106 |                       Vacation |          Adventure,Comedy\n",
      "107 |                Pitch Perfect 2 |              Comedy,Music\n",
      "108 |            Monsters University | Animation,Adventure,Comedy\n",
      "109 |                           Tusk |       Comedy,Drama,Horror\n",
      "110 |                       3 Idiots |              Comedy,Drama\n",
      "111 |                    Zoolander 2 |                    Comedy\n",
      "112 |                          Filth |        Comedy,Crime,Drama\n",
      "113 |                     Kick-Ass 2 |       Action,Comedy,Crime\n",
      "114 |          Folk Hero & Funny Guy |                    Comedy\n",
      "115 |      Hunt for the Wilderpeople |    Adventure,Comedy,Drama\n",
      "116 |                     Demolition |              Comedy,Drama\n",
      "117 |                   The Proposal |      Comedy,Drama,Romance\n",
      "118 |                       Get Hard |              Comedy,Crime\n",
      "119 |                Just Go with It |            Comedy,Romance\n",
      "120 |                     Goosebumps |   Adventure,Comedy,Family\n",
      "121 |                 The Other Guys |       Action,Comedy,Crime\n",
      "122 |                Eddie the Eagle |    Biography,Comedy,Drama\n",
      "123 |      Forgetting Sarah Marshall |      Comedy,Drama,Romance\n",
      "124 |           Perfetti sconosciuti |              Comedy,Drama\n",
      "125 |               Moonrise Kingdom |    Adventure,Comedy,Drama\n",
      "126 |                      Hairspray |       Comedy,Drama,Family\n",
      "127 |                          Focus |        Comedy,Crime,Drama\n",
      "128 |                    Ratatouille |   Animation,Comedy,Family\n",
      "129 |                 Men in Black 3 |   Action,Adventure,Comedy\n",
      "130 |                             Up | Animation,Adventure,Comedy\n",
      "131 |                          Youth |        Comedy,Drama,Music\n",
      "132 |           (500) Days of Summer |      Comedy,Drama,Romance\n",
      "133 |                       Movie 43 |            Comedy,Romance\n",
      "134 |                 Magic Mike XXL |        Comedy,Drama,Music\n",
      "135 |                         Easy A |      Comedy,Drama,Romance\n",
      "136 |          Whiskey Tango Foxtrot |    Biography,Comedy,Drama\n",
      "137 |                    A Good Year |      Comedy,Drama,Romance\n",
      "138 |                    The Do-Over |   Action,Adventure,Comedy\n",
      "139 |              Don't Think Twice |              Comedy,Drama\n",
      "140 |                   The Break-Up |      Comedy,Drama,Romance\n",
      "141 |                      Idiocracy |   Adventure,Comedy,Sci-Fi\n",
      "142 |                 Wreck-It Ralph | Animation,Adventure,Comedy\n",
      "143 |                           Juno |              Comedy,Drama\n",
      "144 |        A Hologram for the King |              Comedy,Drama\n",
      "145 |                The Other Woman |            Comedy,Romance\n",
      "146 |                      Enchanted |   Animation,Comedy,Family\n",
      "147 |                     The Intern |              Comedy,Drama\n",
      "148 |           Little Miss Sunshine |              Comedy,Drama\n",
      "149 |                       Sex Tape |            Comedy,Romance\n",
      "150 | What to Expect When You're Expecting |      Comedy,Drama,Romance\n",
      "151 |                          Brave | Animation,Adventure,Comedy\n",
      "152 |                  She's the Man |      Comedy,Romance,Sport\n",
      "153 |                   Daddy's Home |             Comedy,Family\n",
      "154 |                        Grimsby |   Action,Adventure,Comedy\n",
      "155 |                       Megamind |   Animation,Action,Comedy\n",
      "156 |    He's Just Not That Into You |      Comedy,Drama,Romance\n",
      "157 |                Horrible Bosses |              Comedy,Crime\n",
      "158 |                   Toni Erdmann |              Comedy,Drama\n",
      "159 |                        Don Jon |      Comedy,Drama,Romance\n",
      "160 |                      Mr. Right |     Action,Comedy,Romance\n",
      "161 | The Secret Life of Walter Mitty |    Adventure,Comedy,Drama\n",
      "162 |                           Dope |        Comedy,Crime,Drama\n",
      "163 |                     The Escort |      Comedy,Drama,Romance\n",
      "164 | Night at the Museum: Secret of the Tomb |   Adventure,Comedy,Family\n",
      "165 |             Love & Other Drugs |      Comedy,Drama,Romance\n",
      "166 |                  The Interview |                    Comedy\n",
      "167 |                       The Host |       Comedy,Drama,Horror\n",
      "168 |                     Knocked Up |            Comedy,Romance\n",
      "169 |               American Reunion |                    Comedy\n",
      "170 |               Relatos salvajes |     Comedy,Drama,Thriller\n",
      "171 |               The Ridiculous 6 |            Comedy,Western\n",
      "172 |                          Burnt |              Comedy,Drama\n",
      "173 |                Vampire Academy |     Action,Comedy,Fantasy\n",
      "174 | Popstar: Never Stop Never Stopping |              Comedy,Music\n",
      "175 |   Teenage Mutant Ninja Turtles |   Action,Adventure,Comedy\n",
      "176 |              Pineapple Express |       Action,Comedy,Crime\n",
      "177 |                 The First Time |      Comedy,Drama,Romance\n",
      "178 |                       The Heat |       Action,Comedy,Crime\n",
      "179 |                          Ted 2 |  Adventure,Comedy,Romance\n",
      "180 |                    Pain & Gain |        Comedy,Crime,Drama\n",
      "181 |                War on Everyone |             Action,Comedy\n",
      "182 |                    Love, Rosie |            Comedy,Romance\n",
      "183 |                       The DUFF |                    Comedy\n",
      "184 |              Love & Friendship |      Comedy,Drama,Romance\n",
      "185 |                    Toy Story 3 | Animation,Adventure,Comedy\n",
      "186 |                       10 Years |      Comedy,Drama,Romance\n",
      "187 |               The Matchbreaker |            Comedy,Romance\n",
      "188 |                            Ted |            Comedy,Fantasy\n",
      "189 |                            RED |       Action,Comedy,Crime\n",
      "190 |                    The Hollars |      Comedy,Drama,Romance\n",
      "191 |               The Book of Life | Animation,Adventure,Comedy\n",
      "192 |             The Heartbreak Kid |            Comedy,Romance\n",
      "193 |                     Happy Feet |   Animation,Comedy,Family\n",
      "194 |                      Entourage |                    Comedy\n",
      "195 |                      Neighbors |                    Comedy\n",
      "196 |                      Grown Ups |                    Comedy\n",
      "197 |                   Dark Shadows |     Comedy,Fantasy,Horror\n",
      "198 |          Friends with Benefits |            Comedy,Romance\n",
      "199 |                     The A-Team |   Action,Adventure,Comedy\n",
      "200 |                 The Internship |                    Comedy\n",
      "201 |                           Paul |   Adventure,Comedy,Sci-Fi\n",
      "202 |       This Beautiful Fantastic |      Comedy,Drama,Fantasy\n",
      "203 |                     Mr. Church |              Comedy,Drama\n",
      "204 |                       The Boss |                    Comedy\n",
      "205 | A Million Ways to Die in the West |    Comedy,Romance,Western\n",
      "206 |              Rules Don't Apply |      Comedy,Drama,Romance\n",
      "207 |                      In Bruges |        Comedy,Crime,Drama\n",
      "208 |                 This Means War |     Action,Comedy,Romance\n",
      "209 |                           Chef |              Comedy,Drama\n",
      "210 |                             PK |      Comedy,Drama,Romance\n",
      "211 |                         Cars 2 | Animation,Adventure,Comedy\n",
      "212 |                    Chalk It Up |                    Comedy\n",
      "213 |                         Tramps |            Comedy,Romance\n",
      "214 |                   Before We Go |      Comedy,Drama,Romance\n",
      "215 |           Hotel Transylvania 2 |   Animation,Comedy,Family\n",
      "216 |                        Sisters |                    Comedy\n",
      "217 |                     The Family |     Comedy,Crime,Thriller\n",
      "218 |     Zack and Miri Make a Porno |            Comedy,Romance\n",
      "219 |            Ma vie de Courgette |    Animation,Comedy,Drama\n",
      "220 |            No Strings Attached |            Comedy,Romance\n",
      "221 |                Despicable Me 2 | Animation,Adventure,Comedy\n",
      "222 |                The World's End |      Action,Comedy,Sci-Fi\n",
      "223 |                    Yoga Hosers |     Comedy,Fantasy,Horror\n",
      "224 |              Seven Psychopaths |              Comedy,Crime\n",
      "225 |            The Spectacular Now |      Comedy,Drama,Romance\n",
      "226 |                      Turbo Kid |   Action,Adventure,Comedy\n",
      "227 |              To Rome with Love |            Comedy,Romance\n",
      "228 |              Fantastic Mr. Fox | Animation,Adventure,Comedy\n",
      "229 |                 Disaster Movie |                    Comedy\n",
      "230 | Diary of a Wimpy Kid: Dog Days |             Comedy,Family\n",
      "231 |                    Fool's Gold |   Action,Adventure,Comedy\n",
      "232 |                   The Dictator |                    Comedy\n",
      "233 |  You Don't Mess with the Zohan |             Action,Comedy\n",
      "234 |              Horrible Bosses 2 |              Comedy,Crime\n",
      "235 |      The Princess and the Frog | Animation,Adventure,Comedy\n",
      "236 |                           Home | Animation,Adventure,Comedy\n",
      "237 |       Barbershop: The Next Cut |              Comedy,Drama\n",
      "238 | Alexander and the Terrible, Horrible, No Good, Very Bad Day |             Comedy,Family\n",
      "239 | Diary of a Wimpy Kid: Rodrick Rules |             Comedy,Family\n",
      "240 |           En man som heter Ove |              Comedy,Drama\n",
      "241 |             Life as We Know It |      Comedy,Drama,Romance\n",
      "242 |                    Warm Bodies |     Comedy,Horror,Romance\n",
      "243 |               Saving Mr. Banks |    Biography,Comedy,Drama\n",
      "244 |                            Rio | Animation,Adventure,Comedy\n",
      "245 |                     Piranha 3D |    Comedy,Horror,Thriller\n",
      "246 |                          50/50 |      Comedy,Drama,Romance\n",
      "247 |                     This Is 40 |            Comedy,Romance\n",
      "248 |               Sex and the City |      Comedy,Drama,Romance\n",
      "249 |                  Planet Terror |      Action,Comedy,Horror\n",
      "250 |                       The Fall |    Adventure,Comedy,Drama\n",
      "251 |                 The Ugly Truth |            Comedy,Romance\n",
      "252 |                     Bride Wars |            Comedy,Romance\n",
      "253 |     Sleeping with Other People |      Comedy,Drama,Romance\n",
      "254 |                        What If |            Comedy,Romance\n",
      "255 |        Hello, My Name Is Doris |      Comedy,Drama,Romance\n",
      "256 |                        Slither |      Comedy,Horror,Sci-Fi\n",
      "257 | Scouts Guide to the Zombie Apocalypse |      Action,Comedy,Horror\n",
      "258 |                       17 Again |       Comedy,Drama,Family\n",
      "259 |                      Good Kids |                    Comedy\n",
      "260 |                      Footloose |        Comedy,Drama,Music\n",
      "261 |                 The Love Witch |             Comedy,Horror\n",
      "262 | Talladega Nights: The Ballad of Ricky Bobby |       Action,Comedy,Sport\n",
      "263 |                          Super |              Comedy,Drama\n",
      "264 |            What's Your Number? |            Comedy,Romance\n",
      "265 | Me and Earl and the Dying Girl |              Comedy,Drama\n",
      "266 |                The Descendants |              Comedy,Drama\n",
      "267 |             Sex and the City 2 |      Comedy,Drama,Romance\n",
      "268 |            The Kings of Summer |    Adventure,Comedy,Drama\n",
      "269 |            That Awkward Moment |            Comedy,Romance\n",
      "270 |                   Rock of Ages |      Comedy,Drama,Musical\n",
      "271 |     My Big Fat Greek Wedding 2 |     Comedy,Family,Romance\n",
      "272 |                  Amateur Night |                    Comedy\n",
      "273 |                          Annie |       Comedy,Drama,Family\n",
      "274 |                  Let's Be Cops |                    Comedy\n",
      "275 |                  Your Highness |  Adventure,Comedy,Fantasy\n",
      "276 |           Take Me Home Tonight |      Comedy,Drama,Romance\n",
      "277 |                      Project X |                    Comedy\n",
      "278 |                   Search Party |          Adventure,Comedy\n",
      "279 |                     Nine Lives |     Comedy,Family,Fantasy\n"
     ]
    }
   ],
   "source": [
    "movies_genre = list(db.movies_details.find({'Genre' : {'$regex' :'Comedy'}},{'Title' :1,'Genre' :1}))\n",
    "row = 0\n",
    "print (\"   |             Title              |             Genre              \")\n",
    "print (\"--------------------------------------------------------------------\")\n",
    "for genre in movies_genre :\n",
    "    row +=1\n",
    "    print('%2i | %30s | %25s' %(row,genre['Title'],genre['Genre']))"
   ],
   "metadata": {
    "collapsed": false,
    "pycharm": {
     "name": "#%%\n"
    }
   }
  },
  {
   "cell_type": "markdown",
   "source": [
    "### Average Rating Movies in 2016"
   ],
   "metadata": {
    "collapsed": false
   }
  },
  {
   "cell_type": "code",
   "execution_count": 69,
   "outputs": [
    {
     "name": "stdout",
     "output_type": "stream",
     "text": [
      "   |           Ratings Average in 2016             |\n",
      "   +-----------------------------------------------+\n",
      "   |                    6.436700                   |\n"
     ]
    }
   ],
   "source": [
    "average_rating = list(db.movies_details.find({'Year' : '2016'},{'Rating' : 1 ,'Title':1}))\n",
    "row = 0\n",
    "rating = [float(x['Rating']) for x in average_rating]\n",
    "\n",
    "sum_rating = sum(rating)\n",
    "length_rating = len(rating)\n",
    "\n",
    "avg_rating = sum_rating / length_rating\n",
    "\n",
    "print (\"   |           Ratings Average in 2016             |\")\n",
    "print (\"   +-----------------------------------------------+\")\n",
    "# getting by genre\n",
    "\n",
    "print('   |                    %f                   |' %(avg_rating))"
   ],
   "metadata": {
    "collapsed": false,
    "pycharm": {
     "name": "#%%\n"
    }
   }
  },
  {
   "cell_type": "markdown",
   "source": [
    " ### Count Movies based on its Genre"
   ],
   "metadata": {
    "collapsed": false
   }
  },
  {
   "cell_type": "code",
   "execution_count": 101,
   "outputs": [
    {
     "name": "stdout",
     "output_type": "stream",
     "text": [
      "     |             Genre            |      Movies Count              \n",
      "--------------------------------------------------------------------\n",
      "   1 |      Action,Adventure,Sci-Fi |              50\n",
      "   2 |                        Drama |              48\n",
      "   3 |         Comedy,Drama,Romance |              35\n",
      "   4 |                       Comedy |              32\n",
      "   5 |                Drama,Romance |              31\n",
      "   6 |                 Comedy,Drama |              27\n",
      "   7 |   Animation,Adventure,Comedy |              27\n",
      "   8 |     Action,Adventure,Fantasy |              27\n",
      "   9 |               Comedy,Romance |              26\n",
      "  10 |         Crime,Drama,Thriller |              24\n",
      "  11 |          Crime,Drama,Mystery |              23\n",
      "  12 |       Action,Adventure,Drama |              18\n",
      "  13 |           Action,Crime,Drama |              17\n",
      "  14 |              Horror,Thriller |              16\n",
      "  15 |               Drama,Thriller |              15\n",
      "  16 |              Biography,Drama |              14\n",
      "  17 |     Adventure,Family,Fantasy |              14\n",
      "  18 |      Biography,Drama,History |              14\n",
      "  19 |      Action,Adventure,Comedy |              14\n",
      "  20 |          Action,Comedy,Crime |              12\n",
      "  21 |        Action,Crime,Thriller |              12\n",
      "  22 |                       Horror |              11\n",
      "  23 |    Action,Adventure,Thriller |              11\n",
      "  24 |                  Crime,Drama |              10\n",
      "  25 |              Action,Thriller |               9\n",
      "  26 |        Biography,Crime,Drama |               9\n",
      "  27 |   Animation,Action,Adventure |               9\n",
      "  28 |      Horror,Mystery,Thriller |               9\n",
      "  29 |                     Thriller |               9\n",
      "  30 |       Adventure,Comedy,Drama |               8\n",
      "  31 |       Action,Biography,Drama |               8\n",
      "  32 |       Drama,Mystery,Thriller |               8\n",
      "  33 |        Biography,Drama,Sport |               8\n",
      "  34 |       Biography,Comedy,Drama |               7\n",
      "  35 |        Action,Drama,Thriller |               7\n",
      "  36 |             Mystery,Thriller |               7\n",
      "  37 |           Comedy,Crime,Drama |               7\n",
      "  38 |       Action,Sci-Fi,Thriller |               7\n",
      "  39 |        Drama,Horror,Thriller |               6\n",
      "  40 |       Action,Adventure,Crime |               6\n",
      "  41 |         Drama,Fantasy,Horror |               6\n",
      "  42 |               Horror,Mystery |               6\n",
      "  43 |          Drama,Horror,Sci-Fi |               6\n",
      "  44 |        Drama,Mystery,Romance |               6\n",
      "  45 |         Drama,Mystery,Sci-Fi |               6\n",
      "  46 |      Adventure,Drama,Fantasy |               6\n",
      "  47 |                Action,Comedy |               6\n",
      "  48 |      Biography,Drama,Romance |               5\n",
      "  49 |                  Drama,Sport |               5\n",
      "  50 |         Action,Horror,Sci-Fi |               5\n",
      "  51 |           Comedy,Drama,Music |               5\n",
      "  52 |     Action,Adventure,Mystery |               5\n",
      "  53 |        Drama,Fantasy,Romance |               5\n",
      "  54 |      Animation,Comedy,Family |               5\n",
      "  55 |                 Comedy,Crime |               5\n",
      "  56 |                 Drama,Horror |               5\n",
      "  57 |                Comedy,Family |               5\n",
      "  58 |         Action,Drama,History |               4\n",
      "  59 |         Drama,Horror,Mystery |               4\n",
      "  60 |      Action,Adventure,Family |               4\n",
      "  61 |       Adventure,Drama,Family |               4\n",
      "  62 |        Drama,Sci-Fi,Thriller |               4\n",
      "  63 |    Adventure,Biography,Drama |               4\n",
      "  64 |        Crime,Horror,Thriller |               4\n",
      "  65 |          Action,Drama,Sci-Fi |               4\n",
      "  66 |       Drama,History,Thriller |               4\n",
      "  67 |         Drama,Romance,Sci-Fi |               4\n",
      "  68 |                Action,Sci-Fi |               3\n",
      "  69 |     Adventure,Drama,Thriller |               3\n",
      "  70 |        Action,Fantasy,Horror |               3\n",
      "  71 |             Action,Adventure |               3\n",
      "  72 |        Action,Mystery,Sci-Fi |               3\n",
      "  73 |         Action,Crime,Mystery |               3\n",
      "  74 |                    Drama,War |               3\n",
      "  75 |     Biography,Drama,Thriller |               3\n",
      "  76 |           Crime,Drama,Horror |               3\n",
      "  77 |            Adventure,Fantasy |               3\n",
      "  78 |        Comedy,Fantasy,Horror |               3\n",
      "  79 |          Comedy,Drama,Family |               3\n",
      "  80 |        Action,Comedy,Fantasy |               3\n",
      "  81 |       Horror,Sci-Fi,Thriller |               3\n",
      "  82 |       Drama,Romance,Thriller |               3\n",
      "  83 |      Action,Mystery,Thriller |               3\n",
      "  84 |    Adventure,Sci-Fi,Thriller |               3\n",
      "  85 |       Action,Horror,Thriller |               3\n",
      "  86 |      Mystery,Sci-Fi,Thriller |               3\n",
      "  87 |         Action,Drama,Fantasy |               3\n",
      "  88 |                  Drama,Music |               3\n",
      "  89 |                 Drama,Sci-Fi |               2\n",
      "  90 |           Action,Drama,Sport |               2\n",
      "  91 |                Drama,History |               2\n",
      "  92 |   Animation,Adventure,Family |               2\n",
      "  93 |               Fantasy,Horror |               2\n",
      "  94 |      Action,Adventure,Horror |               2\n",
      "  95 |                Comedy,Horror |               2\n",
      "  96 |   Action,Adventure,Biography |               2\n",
      "  97 |      Adventure,Drama,Romance |               2\n",
      "  98 |                       Sci-Fi |               2\n",
      "  99 |                       Action |               2\n",
      " 100 |     Adventure,Comedy,Romance |               2\n",
      " 101 |       Crime,Mystery,Thriller |               2\n",
      " 102 |     Action,Adventure,Romance |               2\n",
      " 103 |         Comedy,Drama,Fantasy |               2\n",
      " 104 |          Drama,Music,Romance |               2\n",
      " 105 |     Action,Adventure,Western |               2\n",
      " 106 |             Adventure,Comedy |               2\n",
      " 107 |       Adventure,Drama,Sci-Fi |               2\n",
      " 108 |             Adventure,Horror |               2\n",
      " 109 |         Action,Drama,Romance |               2\n",
      " 110 |       Comedy,Horror,Thriller |               2\n",
      " 111 |               Comedy,Fantasy |               2\n",
      " 112 |          Comedy,Drama,Horror |               2\n",
      " 113 |     Adventure,Mystery,Sci-Fi |               2\n",
      " 114 |      Adventure,Comedy,Family |               2\n",
      " 115 |      Adventure,Comedy,Sci-Fi |               2\n",
      " 116 |         Action,Comedy,Horror |               2\n",
      " 117 |                 Comedy,Music |               2\n",
      " 118 |          Crime,Drama,History |               2\n",
      " 119 |         Action,Drama,Mystery |               2\n",
      " 120 |          Action,Drama,Family |               2\n",
      " 121 |                Drama,Fantasy |               2\n",
      " 122 |        Action,Comedy,Romance |               2\n",
      " 123 |      Fantasy,Horror,Thriller |               1\n",
      " 124 |              Sci-Fi,Thriller |               1\n",
      " 125 |         Action,Comedy,Sci-Fi |               1\n",
      " 126 |          Action,Comedy,Sport |               1\n",
      " 127 |          Adventure,Biography |               1\n",
      " 128 |         Comedy,Drama,Musical |               1\n",
      " 129 |            Drama,History,War |               1\n",
      " 130 |        Comedy,Family,Romance |               1\n",
      " 131 |        Comedy,Crime,Thriller |               1\n",
      " 132 |       Mystery,Romance,Sci-Fi |               1\n",
      " 133 |          Action,Thriller,War |               1\n",
      " 134 |          Action,Drama,Horror |               1\n",
      " 135 |        Comedy,Family,Fantasy |               1\n",
      " 136 |                    Adventure |               1\n",
      " 137 |         Comedy,Romance,Sport |               1\n",
      " 138 |        Comedy,Horror,Romance |               1\n",
      " 139 |        Drama,Musical,Romance |               1\n",
      " 140 |               Comedy,Western |               1\n",
      " 141 |                Action,Horror |               1\n",
      " 142 |           Action,Crime,Sport |               1\n",
      " 143 |      Action,Fantasy,Thriller |               1\n",
      " 144 |     Adventure,Horror,Mystery |               1\n",
      " 145 |        Action,Horror,Romance |               1\n",
      " 146 |       Biography,Comedy,Crime |               1\n",
      " 147 |     Fantasy,Mystery,Thriller |               1\n",
      " 148 |        Comedy,Drama,Thriller |               1\n",
      " 149 |      Animation,Drama,Romance |               1\n",
      " 150 |     Mystery,Thriller,Western |               1\n",
      " 151 |        Drama,Fantasy,Mystery |               1\n",
      " 152 |              Adventure,Drama |               1\n",
      " 153 |    Adventure,Fantasy,Mystery |               1\n",
      " 154 |     Mystery,Romance,Thriller |               1\n",
      " 155 |         Comedy,Music,Romance |               1\n",
      " 156 |   Biography,History,Thriller |               1\n",
      " 157 |     Animation,Family,Fantasy |               1\n",
      " 158 |          Drama,Fantasy,Music |               1\n",
      " 159 |               Crime,Thriller |               1\n",
      " 160 |         Action,Crime,Fantasy |               1\n",
      " 161 |         Drama,Family,Fantasy |               1\n",
      " 162 |    Adventure,Biography,Crime |               1\n",
      " 163 |           Action,Fantasy,War |               1\n",
      " 164 |          Action,Comedy,Drama |               1\n",
      " 165 |        Action,Horror,Mystery |               1\n",
      " 166 |      Animation,Action,Comedy |               1\n",
      " 167 |        Drama,Fantasy,Musical |               1\n",
      " 168 |            Crime,Drama,Music |               1\n",
      " 169 |       Biography,Drama,Family |               1\n",
      " 170 |         Comedy,Horror,Sci-Fi |               1\n",
      " 171 |            Drama,Romance,War |               1\n",
      " 172 |      Romance,Sci-Fi,Thriller |               1\n",
      " 173 |                 Thriller,War |               1\n",
      " 174 |       Comedy,Fantasy,Romance |               1\n",
      " 175 |            Drama,Fantasy,War |               1\n",
      " 176 |          Adventure,Drama,War |               1\n",
      " 177 |             Action,Drama,War |               1\n",
      " 178 |                Comedy,Sci-Fi |               1\n",
      " 179 |        Action,Comedy,Mystery |               1\n",
      " 180 |      Adventure,Drama,History |               1\n",
      " 181 |        Comedy,Family,Musical |               1\n",
      " 182 |            Drama,Mystery,War |               1\n",
      " 183 |           Drama,Thriller,War |               1\n",
      " 184 |               Romance,Sci-Fi |               1\n",
      " 185 |                 Drama,Family |               1\n",
      " 186 |      Biography,Drama,Mystery |               1\n",
      " 187 |            Animation,Fantasy |               1\n",
      " 188 |               Comedy,Mystery |               1\n",
      " 189 |      Adventure,Drama,Western |               1\n",
      " 190 |          Crime,Drama,Fantasy |               1\n",
      " 191 |             Adventure,Family |               1\n",
      " 192 |                Drama,Western |               1\n",
      " 193 |     Adventure,Comedy,Fantasy |               1\n",
      " 194 |               Action,Fantasy |               1\n",
      " 195 |        Horror,Mystery,Sci-Fi |               1\n",
      " 196 |           Drama,Family,Music |               1\n",
      " 197 |      Adventure,Comedy,Horror |               1\n",
      " 198 |          Action,Crime,Sci-Fi |               1\n",
      " 199 |       Adventure,Drama,Horror |               1\n",
      " 200 |      Animation,Drama,Fantasy |               1\n",
      " 201 |         Drama,Horror,Musical |               1\n",
      " 202 |       Comedy,Romance,Western |               1\n",
      " 203 |         Action,Comedy,Family |               1\n",
      " 204 |       Action,Biography,Crime |               1\n",
      " 205 |      Adventure,Crime,Mystery |               1\n",
      " 206 |       Animation,Comedy,Drama |               1\n",
      " 207 |       Drama,Fantasy,Thriller |               1\n"
     ]
    }
   ],
   "source": [
    "movies_genre_count = list(db.movies_details.aggregate([{'$project':{'Title':1,'Genre':{'$split': ['$Genre','|']}}},{\n",
    "'$unwind':\"$Genre\"\n",
    "},\n",
    "{ '$sortByCount': \"$Genre\" }\n",
    "]))\n",
    "row = 0\n",
    "print (\"     |             Genre            |      Movies Count              \")\n",
    "print (\"--------------------------------------------------------------------\")\n",
    "for c in movies_genre_count :\n",
    "    row +=1\n",
    "    print('%4i | %28s | %15i' %(row,c['_id'],c['count']))"
   ],
   "metadata": {
    "collapsed": false,
    "pycharm": {
     "name": "#%%\n"
    }
   }
  },
  {
   "cell_type": "code",
   "execution_count": null,
   "outputs": [],
   "source": [],
   "metadata": {
    "collapsed": false,
    "pycharm": {
     "name": "#%%\n"
    }
   }
  }
 ],
 "metadata": {
  "kernelspec": {
   "display_name": "Python 3 (ipykernel)",
   "language": "python",
   "name": "python3"
  },
  "language_info": {
   "codemirror_mode": {
    "name": "ipython",
    "version": 3
   },
   "file_extension": ".py",
   "mimetype": "text/x-python",
   "name": "python",
   "nbconvert_exporter": "python",
   "pygments_lexer": "ipython3",
   "version": "3.8.12"
  }
 },
 "nbformat": 4,
 "nbformat_minor": 5
}