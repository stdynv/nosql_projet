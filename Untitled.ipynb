{
 "cells": [
  {
   "cell_type": "code",
   "execution_count": null,
   "id": "ac267049",
   "metadata": {
    "pycharm": {
     "name": "#%%\n",
     "is_executing": true
    }
   },
   "outputs": [],
   "source": [
    "import json\n",
    "import pymongo\n",
    "from pymongo import MongoClient"
   ]
  },
  {
   "cell_type": "markdown",
   "source": [
    "# Connect To MongoDB"
   ],
   "metadata": {
    "collapsed": false
   }
  },
  {
   "cell_type": "code",
   "execution_count": null,
   "outputs": [],
   "source": [
    "client = MongoClient('localhost',27017)\n",
    "# getting database movies\n",
    "db = client.movies\n",
    "# getting our collection movies_details\n",
    "movies_details = db.movies_details"
   ],
   "metadata": {
    "collapsed": false,
    "pycharm": {
     "name": "#%%\n",
     "is_executing": true
    }
   }
  },
  {
   "cell_type": "markdown",
   "source": [
    "# Top 10 Movies in 2016"
   ],
   "metadata": {
    "collapsed": false
   }
  },
  {
   "cell_type": "code",
   "execution_count": null,
   "outputs": [],
   "source": [
    "top_10_2016 = list(db.movies_details.find({'$and' : [{'Rating' : {'$gte' : '8'},'Year' : '2016'}]},{'Title' :1,'Rating' : 1,'Actors' : 1}).sort([(\"Rating\", pymongo.DESCENDING)]).limit(10))\n",
    "row = 0\n",
    "print (\" Title                  |      Rating   |       Actors  \".center(50))\n",
    "print (\"------------------------------------------------------------------\")\n",
    "for i in top_10_2016:\n",
    "    row +=1\n",
    "    print(\"%2i | %14s      |           %.1f |  %10s\" % (row,i['Title'],float(i[\"Rating\"]),i['Actors']))"
   ],
   "metadata": {
    "collapsed": false,
    "pycharm": {
     "name": "#%%\n",
     "is_executing": true
    }
   }
  },
  {
   "cell_type": "markdown",
   "source": [
    "## quels sont les films dont lesquels joue Vin Diesel avant 2016"
   ],
   "metadata": {
    "collapsed": false
   }
  },
  {
   "cell_type": "code",
   "execution_count": null,
   "outputs": [],
   "source": [
    "actors_2016 = list(db.movies_details.find({'Actors' : {'$regex' : 'Vin Diesel'},'Year' : {'$lt' :'2016'}},{'Actors' :1,'Year':1}).sort([(\"Year\", pymongo.DESCENDING)]))\n",
    "row =0\n",
    "print (\"   |        Year    |                               Actors\")\n",
    "print (\"------------------------------------------------------------------\")\n",
    "for i in actors_2016:\n",
    "    row +=1\n",
    "    print(\"%2i | %14s | %10s\" % (row,i['Year'],i['Actors']))"
   ],
   "metadata": {
    "collapsed": false,
    "pycharm": {
     "name": "#%%\n",
     "is_executing": true
    }
   }
  },
  {
   "cell_type": "markdown",
   "source": [
    "### Les Pires Films"
   ],
   "metadata": {
    "collapsed": false
   }
  },
  {
   "cell_type": "code",
   "execution_count": null,
   "outputs": [],
   "source": [
    "pires_films = list(db.movies_details.find(\n",
    "    {\n",
    "    },\n",
    "    {\n",
    "        \"Title\" : 1,\n",
    "        \"Actors\" : 1,\n",
    "        \"Director\" : 1,\n",
    "        \"Rating\" : 1\n",
    "\n",
    "    }).sort([(\"Rating\", pymongo.ASCENDING)]).limit(10))\n",
    "row = 0\n",
    "print (\"   |             Title              |    Actors   \")\n",
    "print (\"+-------------------------------------------------+\")\n",
    "for i in pires_films:\n",
    "    row +=1\n",
    "    print(\"%2i | %30s | %8s\" % (row,i['Title'],i['Rating']))"
   ],
   "metadata": {
    "collapsed": false,
    "pycharm": {
     "name": "#%%\n",
     "is_executing": true
    }
   }
  },
  {
   "cell_type": "markdown",
   "source": [
    "### liste des films pour le directeur Paul Greengrass"
   ],
   "metadata": {
    "collapsed": false
   }
  },
  {
   "cell_type": "code",
   "execution_count": null,
   "outputs": [],
   "source": [
    "movies_workedOn = list(db.movies_details.find({'Director' : {'$regex' :'Paul Greengrass'}},{'Title':1,'Genre':1,'Year':1}))\n",
    "row = 0\n",
    "print (\"  |             Title               |        Genre              |    Year \")\n",
    "print (\"----------------------------------------------------------------------------\")\n",
    "for x in movies_workedOn :\n",
    "    row+=1\n",
    "    print(\"%2i | %30s | %25s |%8s\" % (row,x['Title'],x['Genre'],x['Year']))"
   ],
   "metadata": {
    "collapsed": false,
    "pycharm": {
     "name": "#%%\n",
     "is_executing": true
    }
   }
  },
  {
   "cell_type": "markdown",
   "source": [
    "### Liste des films par Genre"
   ],
   "metadata": {
    "collapsed": false
   }
  },
  {
   "cell_type": "markdown",
   "source": [],
   "metadata": {
    "collapsed": false,
    "pycharm": {
     "name": "#%% md\n"
    }
   }
  },
  {
   "cell_type": "code",
   "execution_count": null,
   "outputs": [],
   "source": [
    "movies_genre = list(db.movies_details.find({'Genre' : {'$regex' :'Comedy'}},{'Title' :1,'Genre' :1}))\n",
    "row = 0\n",
    "print (\"   |             Title              |             Genre              \")\n",
    "print (\"--------------------------------------------------------------------\")\n",
    "for genre in movies_genre :\n",
    "    row +=1\n",
    "    print('%2i | %30s | %25s' %(row,genre['Title'],genre['Genre']))"
   ],
   "metadata": {
    "collapsed": false,
    "pycharm": {
     "name": "#%%\n",
     "is_executing": true
    }
   }
  },
  {
   "cell_type": "markdown",
   "source": [
    "### Average Rating Movies in 2016"
   ],
   "metadata": {
    "collapsed": false
   }
  },
  {
   "cell_type": "code",
   "execution_count": null,
   "outputs": [],
   "source": [
    "average_rating = list(db.movies_details.find({'Year' : '2016'},{'Rating' : 1 ,'Title':1}))\n",
    "row = 0\n",
    "rating = [float(x['Rating']) for x in average_rating]\n",
    "\n",
    "sum_rating = sum(rating)\n",
    "length_rating = len(rating)\n",
    "\n",
    "avg_rating = sum_rating / length_rating\n",
    "\n",
    "print (\"   |           Ratings Average in 2016             |\")\n",
    "print (\"   +-----------------------------------------------+\")\n",
    "# getting by genre\n",
    "\n",
    "print('   |                    %f                   |' %(avg_rating))"
   ],
   "metadata": {
    "collapsed": false,
    "pycharm": {
     "name": "#%%\n",
     "is_executing": true
    }
   }
  },
  {
   "cell_type": "markdown",
   "source": [
    "### Dintinct Actors"
   ],
   "metadata": {
    "collapsed": false
   }
  },
  {
   "cell_type": "code",
   "execution_count": null,
   "outputs": [],
   "source": [
    "print (\"   |           Distinct Directors             |\")\n",
    "print (\"   +------------------------------------------+\")\n",
    "for director in list(db.movies_details.distinct('Director')) :\n",
    "\n",
    "\n",
    "    print('   |%30s            |' %(director))"
   ],
   "metadata": {
    "collapsed": false,
    "pycharm": {
     "name": "#%%\n",
     "is_executing": true
    }
   }
  },
  {
   "cell_type": "markdown",
   "source": [
    " ### Count Movies based on its Genre"
   ],
   "metadata": {
    "collapsed": false
   }
  },
  {
   "cell_type": "code",
   "execution_count": null,
   "outputs": [],
   "source": [
    "movies_genre_count = list(db.movies_details.aggregate([{'$project':{'Title':1,'Genre':{'$split': ['$Genre','|']}}},{\n",
    "'$unwind':\"$Genre\"\n",
    "},\n",
    "{ '$sortByCount': \"$Genre\" }\n",
    "]))\n",
    "row = 0\n",
    "print (\"     |             Genre            |      Movies Count              \")\n",
    "print (\"--------------------------------------------------------------------\")\n",
    "for c in movies_genre_count :\n",
    "    row +=1\n",
    "    print('%4i | %28s | %10i Movies' %(row,c['_id'],c['count']))"
   ],
   "metadata": {
    "collapsed": false,
    "pycharm": {
     "name": "#%%\n",
     "is_executing": true
    }
   }
  },
  {
   "cell_type": "markdown",
   "source": [
    "### Average Votes Per Genre"
   ],
   "metadata": {
    "collapsed": false
   }
  },
  {
   "cell_type": "code",
   "execution_count": null,
   "outputs": [],
   "source": [
    "average_votes = list(db.movies_details.aggregate([{\"$addFields\" : {'Votes' : {'$toDouble' :'$Votes'}}},{'$group' : {'_id' : '$Genre','Votes' : {'$avg' : '$Votes'}}}]))\n",
    "\n",
    "row = 0\n",
    "print (\"     |             Genre            |      Average Votes            \")\n",
    "print (\"--------------------------------------------------------------------\")\n",
    "for avg in average_votes :\n",
    "    row +=1\n",
    "    print('%4i | %28s | %10.2f Votes' %(row,avg['_id'],avg['Votes']))"
   ],
   "metadata": {
    "collapsed": false,
    "pycharm": {
     "name": "#%%\n",
     "is_executing": true
    }
   }
  },
  {
   "cell_type": "markdown",
   "source": [
    "# Maximum Rates Per Genre"
   ],
   "metadata": {
    "collapsed": false
   }
  },
  {
   "cell_type": "code",
   "execution_count": null,
   "outputs": [],
   "source": [
    "maxi_rating = list(db.movies_details.aggregate([{\"$addFields\" : {'Rating' : {'$toDouble' :'$Rating'}}},{'$group' : {'_id' : '$Genre','Rating' : {'$max' : '$Rating'}}},{'$sort':{'Rating' : pymongo.DESCENDING}}]))\n",
    "\n",
    "row = 0\n",
    "print (\"     |             Genre            |    Maximum Rating             \")\n",
    "print (\"--------------------------------------------------------------------\")\n",
    "for mx in maxi_rating :\n",
    "    row +=1\n",
    "    print('%4i | %28s | %10.2f stars' %(row,mx['_id'],mx['Rating']))"
   ],
   "metadata": {
    "collapsed": false,
    "pycharm": {
     "name": "#%%\n",
     "is_executing": true
    }
   }
  },
  {
   "cell_type": "markdown",
   "source": [
    "### Moyenne Des Durées Des Films Par Réalisateurs"
   ],
   "metadata": {
    "collapsed": false
   }
  },
  {
   "cell_type": "code",
   "execution_count": null,
   "outputs": [],
   "source": [
    "moyenne_réalisateurs = list(db.movies_details.aggregate([{'$addFields' : {'Runtime (Minutes)' : {'$toDouble' : '$Runtime (Minutes)'}}},{'$group' : {'_id' : '$Director','Moyenne' : {'$avg' : '$Runtime (Minutes)'}}}]))\n",
    "row = 0\n",
    "print (\"     |             Réalisateurs            |    Average RunTime             \")\n",
    "print (\"--------------------------------------------------------------------\")\n",
    "for myn in moyenne_réalisateurs :\n",
    "    row +=1\n",
    "    print('%4i | %28s        | %10.2f minutes' %(row,myn['_id'],myn['Moyenne']))"
   ],
   "metadata": {
    "collapsed": false,
    "pycharm": {
     "name": "#%%\n",
     "is_executing": true
    }
   }
  }
 ],
 "metadata": {
  "kernelspec": {
   "display_name": "Python 3 (ipykernel)",
   "language": "python",
   "name": "python3"
  },
  "language_info": {
   "codemirror_mode": {
    "name": "ipython",
    "version": 3
   },
   "file_extension": ".py",
   "mimetype": "text/x-python",
   "name": "python",
   "nbconvert_exporter": "python",
   "pygments_lexer": "ipython3",
   "version": "3.8.12"
  }
 },
 "nbformat": 4,
 "nbformat_minor": 5
}